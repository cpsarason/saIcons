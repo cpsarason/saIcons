{
 "cells": [
  {
   "cell_type": "code",
   "execution_count": 2,
   "id": "c4d7d1f3-9ec0-4015-98c6-b5c03088f01e",
   "metadata": {
    "scrolled": true
   },
   "outputs": [
    {
     "name": "stderr",
     "output_type": "stream",
     "text": [
      "/Users/cbps/code/saIcons/.pixi/envs/default/lib/python3.12/site-packages/shapely/ops.py:276: FutureWarning: This function is deprecated. See: https://pyproj4.github.io/pyproj/stable/gotchas.html#upgrading-to-pyproj-2-from-pyproj-1\n",
      "  shell = type(geom.exterior)(zip(*func(*zip(*geom.exterior.coords))))\n"
     ]
    }
   ],
   "source": [
    "import pandas as pd\n",
    "import xarray as xr\n",
    "import simplekml\n",
    "\n",
    "#dependencies for range ring\n",
    "from functools import partial\n",
    "import pyproj\n",
    "from shapely.ops import transform\n",
    "from shapely.geometry import Point\n",
    "\n",
    "\n",
    "# ## Create a 1000km ring in the middle of the Atlantic\n",
    "\n",
    "proj_wgs84 = pyproj.Proj('+proj=longlat +datum=WGS84')\n",
    "def geodesic_point_buffer(lat, lon, km):\n",
    "    # Azimuthal equidistant projection\n",
    "    aeqd_proj = '+proj=aeqd +lat_0={lat} +lon_0={lon} +x_0=0 +y_0=0'\n",
    "    project = partial(\n",
    "        pyproj.transform,\n",
    "        pyproj.Proj(aeqd_proj.format(lat=lat, lon=lon)),\n",
    "        proj_wgs84)\n",
    "    buf = Point(0, 0).buffer(km * 1000)  # distance in metres\n",
    "    return transform(project, buf).exterior.coords[:]\n",
    "\n",
    "ring = geodesic_point_buffer(25.84,  -45.17,1000)"
   ]
  },
  {
   "cell_type": "code",
   "execution_count": 4,
   "id": "a9fc20ec-309a-458b-8e5a-820dc8d822cd",
   "metadata": {},
   "outputs": [],
   "source": [
    "df = pd.DataFrame(ring)\n",
    "df.columns = ['lon','lat']"
   ]
  },
  {
   "cell_type": "code",
   "execution_count": 7,
   "id": "8c913f67-7e7c-4951-83b3-29239dad05bb",
   "metadata": {},
   "outputs": [],
   "source": []
  },
  {
   "cell_type": "code",
   "execution_count": 8,
   "id": "d91f7509-989f-4041-a42c-9a1969316748",
   "metadata": {},
   "outputs": [
    {
     "data": {
      "text/html": [
       "<div>\n",
       "<style scoped>\n",
       "    .dataframe tbody tr th:only-of-type {\n",
       "        vertical-align: middle;\n",
       "    }\n",
       "\n",
       "    .dataframe tbody tr th {\n",
       "        vertical-align: top;\n",
       "    }\n",
       "\n",
       "    .dataframe thead th {\n",
       "        text-align: right;\n",
       "    }\n",
       "</style>\n",
       "<table border=\"1\" class=\"dataframe\">\n",
       "  <thead>\n",
       "    <tr style=\"text-align: right;\">\n",
       "      <th></th>\n",
       "      <th>lon</th>\n",
       "      <th>lat</th>\n",
       "    </tr>\n",
       "  </thead>\n",
       "  <tbody>\n",
       "    <tr>\n",
       "      <th>0</th>\n",
       "      <td>-35.214216</td>\n",
       "      <td>25.498720</td>\n",
       "    </tr>\n",
       "    <tr>\n",
       "      <th>1</th>\n",
       "      <td>-35.333503</td>\n",
       "      <td>24.623161</td>\n",
       "    </tr>\n",
       "    <tr>\n",
       "      <th>2</th>\n",
       "      <td>-35.542717</td>\n",
       "      <td>23.761905</td>\n",
       "    </tr>\n",
       "    <tr>\n",
       "      <th>3</th>\n",
       "      <td>-35.838302</td>\n",
       "      <td>22.922697</td>\n",
       "    </tr>\n",
       "    <tr>\n",
       "      <th>4</th>\n",
       "      <td>-36.216192</td>\n",
       "      <td>22.112967</td>\n",
       "    </tr>\n",
       "    <tr>\n",
       "      <th>...</th>\n",
       "      <td>...</td>\n",
       "      <td>...</td>\n",
       "    </tr>\n",
       "    <tr>\n",
       "      <th>60</th>\n",
       "      <td>-35.685642</td>\n",
       "      <td>28.980655</td>\n",
       "    </tr>\n",
       "    <tr>\n",
       "      <th>61</th>\n",
       "      <td>-35.422374</td>\n",
       "      <td>28.129999</td>\n",
       "    </tr>\n",
       "    <tr>\n",
       "      <th>62</th>\n",
       "      <td>-35.256690</td>\n",
       "      <td>27.260464</td>\n",
       "    </tr>\n",
       "    <tr>\n",
       "      <th>63</th>\n",
       "      <td>-35.187835</td>\n",
       "      <td>26.380568</td>\n",
       "    </tr>\n",
       "    <tr>\n",
       "      <th>64</th>\n",
       "      <td>-35.214216</td>\n",
       "      <td>25.498720</td>\n",
       "    </tr>\n",
       "  </tbody>\n",
       "</table>\n",
       "<p>65 rows × 2 columns</p>\n",
       "</div>"
      ],
      "text/plain": [
       "          lon        lat\n",
       "0  -35.214216  25.498720\n",
       "1  -35.333503  24.623161\n",
       "2  -35.542717  23.761905\n",
       "3  -35.838302  22.922697\n",
       "4  -36.216192  22.112967\n",
       "..        ...        ...\n",
       "60 -35.685642  28.980655\n",
       "61 -35.422374  28.129999\n",
       "62 -35.256690  27.260464\n",
       "63 -35.187835  26.380568\n",
       "64 -35.214216  25.498720\n",
       "\n",
       "[65 rows x 2 columns]"
      ]
     },
     "execution_count": 8,
     "metadata": {},
     "output_type": "execute_result"
    }
   ],
   "source": []
  },
  {
   "cell_type": "code",
   "execution_count": null,
   "id": "c37737fc-6aff-4d62-a926-42a8c7f6e3f1",
   "metadata": {},
   "outputs": [],
   "source": []
  }
 ],
 "metadata": {
  "kernelspec": {
   "display_name": "Python 3 (ipykernel)",
   "language": "python",
   "name": "python3"
  },
  "language_info": {
   "codemirror_mode": {
    "name": "ipython",
    "version": 3
   },
   "file_extension": ".py",
   "mimetype": "text/x-python",
   "name": "python",
   "nbconvert_exporter": "python",
   "pygments_lexer": "ipython3",
   "version": "3.12.5"
  }
 },
 "nbformat": 4,
 "nbformat_minor": 5
}
